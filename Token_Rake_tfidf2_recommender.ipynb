{
 "cells": [
  {
   "cell_type": "code",
   "execution_count": 1,
   "metadata": {
    "scrolled": false
   },
   "outputs": [
    {
     "data": {
      "text/html": [
       "<div>\n",
       "<style scoped>\n",
       "    .dataframe tbody tr th:only-of-type {\n",
       "        vertical-align: middle;\n",
       "    }\n",
       "\n",
       "    .dataframe tbody tr th {\n",
       "        vertical-align: top;\n",
       "    }\n",
       "\n",
       "    .dataframe thead th {\n",
       "        text-align: right;\n",
       "    }\n",
       "</style>\n",
       "<table border=\"1\" class=\"dataframe\">\n",
       "  <thead>\n",
       "    <tr style=\"text-align: right;\">\n",
       "      <th></th>\n",
       "      <th>Name</th>\n",
       "      <th>Story</th>\n",
       "      <th>NounAdj</th>\n",
       "    </tr>\n",
       "  </thead>\n",
       "  <tbody>\n",
       "    <tr>\n",
       "      <td>0</td>\n",
       "      <td>외눈박이 물고기의 사랑</td>\n",
       "      <td>\\n\\r\\n시인이자 명상가, 번역가로 활동중인 류시화의 두번째 시집. 일상 언어들을...</td>\n",
       "      <td>시인 이자 명상 번역가 활동 류시화 두번째 시집 일상 언어 사용 세계 빚 그 시 마...</td>\n",
       "    </tr>\n",
       "    <tr>\n",
       "      <td>1</td>\n",
       "      <td>지금 알고 있는 걸 그때도 알았더라면</td>\n",
       "      <td>\\n\\r\\n20여 년간 명상과 인간의식 진화에 대한 번역서를 소개하면서 시를 써온 ...</td>\n",
       "      <td>여 년 명상 인간 의식 진화 대한 번역 를 소개 온 류시화 사랑 잠언 시집 삶 대한...</td>\n",
       "    </tr>\n",
       "    <tr>\n",
       "      <td>2</td>\n",
       "      <td>연인</td>\n",
       "      <td>\\n\\r\\n우리들 가슴 어딘가에 감추어져 있는 진정한 사랑의 풍경소리를 찾아가는 푸...</td>\n",
       "      <td>우리 가슴 어딘가 사랑 풍경 소리 푸른 툭눈 이야기 운주사 풍경 삶 현재 사랑 못 ...</td>\n",
       "    </tr>\n",
       "    <tr>\n",
       "      <td>3</td>\n",
       "      <td>연인</td>\n",
       "      <td>\\n\\r\\n우리들 가슴 어딘가에 감추어져 있는 진정한 사랑의 풍경소리를 찾아가는 푸...</td>\n",
       "      <td>우리 가슴 어딘가 사랑 풍경 소리 푸른 툭눈 이야기 운주사 풍경 삶 현재 사랑 못 ...</td>\n",
       "    </tr>\n",
       "    <tr>\n",
       "      <td>4</td>\n",
       "      <td>섬진강 이야기1</td>\n",
       "      <td>\\n\\r\\n남도 5백 리 길 세 개의 도와 열두 개의 군을 거쳐 지나가며 사람들의 ...</td>\n",
       "      <td>남도 백 리 길 세 개 도 개 군 사람 삶 강 우리 뇌리 가장 강 기억 섬진강 사계...</td>\n",
       "    </tr>\n",
       "  </tbody>\n",
       "</table>\n",
       "</div>"
      ],
      "text/plain": [
       "                   Name                                              Story  \\\n",
       "0          외눈박이 물고기의 사랑  \\n\\r\\n시인이자 명상가, 번역가로 활동중인 류시화의 두번째 시집. 일상 언어들을...   \n",
       "1  지금 알고 있는 걸 그때도 알았더라면  \\n\\r\\n20여 년간 명상과 인간의식 진화에 대한 번역서를 소개하면서 시를 써온 ...   \n",
       "2                    연인  \\n\\r\\n우리들 가슴 어딘가에 감추어져 있는 진정한 사랑의 풍경소리를 찾아가는 푸...   \n",
       "3                    연인  \\n\\r\\n우리들 가슴 어딘가에 감추어져 있는 진정한 사랑의 풍경소리를 찾아가는 푸...   \n",
       "4              섬진강 이야기1  \\n\\r\\n남도 5백 리 길 세 개의 도와 열두 개의 군을 거쳐 지나가며 사람들의 ...   \n",
       "\n",
       "                                             NounAdj  \n",
       "0  시인 이자 명상 번역가 활동 류시화 두번째 시집 일상 언어 사용 세계 빚 그 시 마...  \n",
       "1  여 년 명상 인간 의식 진화 대한 번역 를 소개 온 류시화 사랑 잠언 시집 삶 대한...  \n",
       "2  우리 가슴 어딘가 사랑 풍경 소리 푸른 툭눈 이야기 운주사 풍경 삶 현재 사랑 못 ...  \n",
       "3  우리 가슴 어딘가 사랑 풍경 소리 푸른 툭눈 이야기 운주사 풍경 삶 현재 사랑 못 ...  \n",
       "4  남도 백 리 길 세 개 도 개 군 사람 삶 강 우리 뇌리 가장 강 기억 섬진강 사계...  "
      ]
     },
     "execution_count": 1,
     "metadata": {},
     "output_type": "execute_result"
    }
   ],
   "source": [
    "from rake_nltk import Rake\n",
    "import pandas as pd\n",
    "import numpy as np\n",
    "from sklearn.metrics.pairwise import cosine_similarity\n",
    "from sklearn.feature_extraction.text import CountVectorizer \n",
    "token = pd.read_csv('tokenized.csv',usecols=['Name','Story','NounAdj'], nrows=7000)\n",
    "\n",
    "token.head()"
   ]
  },
  {
   "cell_type": "code",
   "execution_count": 29,
   "metadata": {},
   "outputs": [],
   "source": [
    "token = token.dropna(axis=0)"
   ]
  },
  {
   "cell_type": "code",
   "execution_count": 30,
   "metadata": {},
   "outputs": [
    {
     "data": {
      "text/plain": [
       "Name       0\n",
       "Story      0\n",
       "NounAdj    0\n",
       "dtype: int64"
      ]
     },
     "execution_count": 30,
     "metadata": {},
     "output_type": "execute_result"
    }
   ],
   "source": [
    "token.isnull().sum()"
   ]
  },
  {
   "cell_type": "code",
   "execution_count": 31,
   "metadata": {
    "scrolled": true
   },
   "outputs": [],
   "source": [
    "import operator\n",
    "\n",
    "token['Key_words'] = ''\n",
    "r = Rake()\n",
    "for index, row in token.iterrows():\n",
    "    r.extract_keywords_from_text(row['NounAdj'])\n",
    "    key_words_dict_scores = r.get_word_degrees()\n",
    "    key_words_dict_scores = sorted(key_words_dict_scores.items(), key=operator.itemgetter(1))\n",
    "    temp = []\n",
    "    for i in key_words_dict_scores[-5:]:\n",
    "        temp.append(i[0])\n",
    "    row['Key_words'] = temp"
   ]
  },
  {
   "cell_type": "code",
   "execution_count": 32,
   "metadata": {
    "scrolled": false
   },
   "outputs": [
    {
     "data": {
      "text/html": [
       "<div>\n",
       "<style scoped>\n",
       "    .dataframe tbody tr th:only-of-type {\n",
       "        vertical-align: middle;\n",
       "    }\n",
       "\n",
       "    .dataframe tbody tr th {\n",
       "        vertical-align: top;\n",
       "    }\n",
       "\n",
       "    .dataframe thead th {\n",
       "        text-align: right;\n",
       "    }\n",
       "</style>\n",
       "<table border=\"1\" class=\"dataframe\">\n",
       "  <thead>\n",
       "    <tr style=\"text-align: right;\">\n",
       "      <th></th>\n",
       "      <th>Name</th>\n",
       "      <th>Story</th>\n",
       "      <th>NounAdj</th>\n",
       "      <th>Key_words</th>\n",
       "    </tr>\n",
       "  </thead>\n",
       "  <tbody>\n",
       "    <tr>\n",
       "      <td>0</td>\n",
       "      <td>외눈박이 물고기의 사랑</td>\n",
       "      <td>\\n\\r\\n시인이자 명상가, 번역가로 활동중인 류시화의 두번째 시집. 일상 언어들을...</td>\n",
       "      <td>시인 이자 명상 번역가 활동 류시화 두번째 시집 일상 언어 사용 세계 빚 그 시 마...</td>\n",
       "      <td>[가볍게, 없는, 깊어진, 시집, 세계]</td>\n",
       "    </tr>\n",
       "    <tr>\n",
       "      <td>1</td>\n",
       "      <td>지금 알고 있는 걸 그때도 알았더라면</td>\n",
       "      <td>\\n\\r\\n20여 년간 명상과 인간의식 진화에 대한 번역서를 소개하면서 시를 써온 ...</td>\n",
       "      <td>여 년 명상 인간 의식 진화 대한 번역 를 소개 온 류시화 사랑 잠언 시집 삶 대한...</td>\n",
       "      <td>[시집, 사람, 새로운, 대한, 삶]</td>\n",
       "    </tr>\n",
       "    <tr>\n",
       "      <td>2</td>\n",
       "      <td>연인</td>\n",
       "      <td>\\n\\r\\n우리들 가슴 어딘가에 감추어져 있는 진정한 사랑의 풍경소리를 찾아가는 푸...</td>\n",
       "      <td>우리 가슴 어딘가 사랑 풍경 소리 푸른 툭눈 이야기 운주사 풍경 삶 현재 사랑 못 ...</td>\n",
       "      <td>[풍경, 푸른, 툭눈, 사랑, 삶]</td>\n",
       "    </tr>\n",
       "    <tr>\n",
       "      <td>3</td>\n",
       "      <td>연인</td>\n",
       "      <td>\\n\\r\\n우리들 가슴 어딘가에 감추어져 있는 진정한 사랑의 풍경소리를 찾아가는 푸...</td>\n",
       "      <td>우리 가슴 어딘가 사랑 풍경 소리 푸른 툭눈 이야기 운주사 풍경 삶 현재 사랑 못 ...</td>\n",
       "      <td>[풍경, 푸른, 툭눈, 사랑, 삶]</td>\n",
       "    </tr>\n",
       "    <tr>\n",
       "      <td>4</td>\n",
       "      <td>섬진강 이야기1</td>\n",
       "      <td>\\n\\r\\n남도 5백 리 길 세 개의 도와 열두 개의 군을 거쳐 지나가며 사람들의 ...</td>\n",
       "      <td>남도 백 리 길 세 개 도 개 군 사람 삶 강 우리 뇌리 가장 강 기억 섬진강 사계...</td>\n",
       "      <td>[것, 책아름다운, 있다, 개, 강]</td>\n",
       "    </tr>\n",
       "  </tbody>\n",
       "</table>\n",
       "</div>"
      ],
      "text/plain": [
       "                   Name                                              Story  \\\n",
       "0          외눈박이 물고기의 사랑  \\n\\r\\n시인이자 명상가, 번역가로 활동중인 류시화의 두번째 시집. 일상 언어들을...   \n",
       "1  지금 알고 있는 걸 그때도 알았더라면  \\n\\r\\n20여 년간 명상과 인간의식 진화에 대한 번역서를 소개하면서 시를 써온 ...   \n",
       "2                    연인  \\n\\r\\n우리들 가슴 어딘가에 감추어져 있는 진정한 사랑의 풍경소리를 찾아가는 푸...   \n",
       "3                    연인  \\n\\r\\n우리들 가슴 어딘가에 감추어져 있는 진정한 사랑의 풍경소리를 찾아가는 푸...   \n",
       "4              섬진강 이야기1  \\n\\r\\n남도 5백 리 길 세 개의 도와 열두 개의 군을 거쳐 지나가며 사람들의 ...   \n",
       "\n",
       "                                             NounAdj               Key_words  \n",
       "0  시인 이자 명상 번역가 활동 류시화 두번째 시집 일상 언어 사용 세계 빚 그 시 마...  [가볍게, 없는, 깊어진, 시집, 세계]  \n",
       "1  여 년 명상 인간 의식 진화 대한 번역 를 소개 온 류시화 사랑 잠언 시집 삶 대한...    [시집, 사람, 새로운, 대한, 삶]  \n",
       "2  우리 가슴 어딘가 사랑 풍경 소리 푸른 툭눈 이야기 운주사 풍경 삶 현재 사랑 못 ...     [풍경, 푸른, 툭눈, 사랑, 삶]  \n",
       "3  우리 가슴 어딘가 사랑 풍경 소리 푸른 툭눈 이야기 운주사 풍경 삶 현재 사랑 못 ...     [풍경, 푸른, 툭눈, 사랑, 삶]  \n",
       "4  남도 백 리 길 세 개 도 개 군 사람 삶 강 우리 뇌리 가장 강 기억 섬진강 사계...    [것, 책아름다운, 있다, 개, 강]  "
      ]
     },
     "execution_count": 32,
     "metadata": {},
     "output_type": "execute_result"
    }
   ],
   "source": [
    "token.head()"
   ]
  },
  {
   "cell_type": "code",
   "execution_count": 34,
   "metadata": {},
   "outputs": [],
   "source": [
    "token['Bag_of_words'] = ''\n",
    "columns = ['Key_words']\n",
    "for index, row in token.iterrows():\n",
    "    words = ''\n",
    "    for col in columns:\n",
    "        words += ' '.join(row[col]) + ' '\n",
    "    row['Bag_of_words'] = words"
   ]
  },
  {
   "cell_type": "code",
   "execution_count": 37,
   "metadata": {
    "scrolled": true
   },
   "outputs": [
    {
     "data": {
      "text/html": [
       "<div>\n",
       "<style scoped>\n",
       "    .dataframe tbody tr th:only-of-type {\n",
       "        vertical-align: middle;\n",
       "    }\n",
       "\n",
       "    .dataframe tbody tr th {\n",
       "        vertical-align: top;\n",
       "    }\n",
       "\n",
       "    .dataframe thead th {\n",
       "        text-align: right;\n",
       "    }\n",
       "</style>\n",
       "<table border=\"1\" class=\"dataframe\">\n",
       "  <thead>\n",
       "    <tr style=\"text-align: right;\">\n",
       "      <th></th>\n",
       "      <th>Name</th>\n",
       "      <th>Key_words</th>\n",
       "      <th>Bag_of_words</th>\n",
       "    </tr>\n",
       "  </thead>\n",
       "  <tbody>\n",
       "    <tr>\n",
       "      <td>0</td>\n",
       "      <td>외눈박이 물고기의 사랑</td>\n",
       "      <td>[가볍게, 없는, 깊어진, 시집, 세계]</td>\n",
       "      <td>가볍게 없는 깊어진 시집 세계</td>\n",
       "    </tr>\n",
       "    <tr>\n",
       "      <td>1</td>\n",
       "      <td>지금 알고 있는 걸 그때도 알았더라면</td>\n",
       "      <td>[시집, 사람, 새로운, 대한, 삶]</td>\n",
       "      <td>시집 사람 새로운 대한 삶</td>\n",
       "    </tr>\n",
       "    <tr>\n",
       "      <td>2</td>\n",
       "      <td>연인</td>\n",
       "      <td>[풍경, 푸른, 툭눈, 사랑, 삶]</td>\n",
       "      <td>풍경 푸른 툭눈 사랑 삶</td>\n",
       "    </tr>\n",
       "    <tr>\n",
       "      <td>3</td>\n",
       "      <td>연인</td>\n",
       "      <td>[풍경, 푸른, 툭눈, 사랑, 삶]</td>\n",
       "      <td>풍경 푸른 툭눈 사랑 삶</td>\n",
       "    </tr>\n",
       "    <tr>\n",
       "      <td>4</td>\n",
       "      <td>섬진강 이야기1</td>\n",
       "      <td>[것, 책아름다운, 있다, 개, 강]</td>\n",
       "      <td>것 책아름다운 있다 개 강</td>\n",
       "    </tr>\n",
       "    <tr>\n",
       "      <td>5</td>\n",
       "      <td>고수의 일침</td>\n",
       "      <td>[있는, 고수, 저자, 말, 책]</td>\n",
       "      <td>있는 고수 저자 말 책</td>\n",
       "    </tr>\n",
       "    <tr>\n",
       "      <td>6</td>\n",
       "      <td>꽃보다 먼저 마음을 주었네</td>\n",
       "      <td>[마음, 하나, 서정, 시집, 자연]</td>\n",
       "      <td>마음 하나 서정 시집 자연</td>\n",
       "    </tr>\n",
       "    <tr>\n",
       "      <td>7</td>\n",
       "      <td>슬픈 아일랜드 1</td>\n",
       "      <td>[철저하게, 문학, 장편소설, 현실, 작가]</td>\n",
       "      <td>철저하게 문학 장편소설 현실 작가</td>\n",
       "    </tr>\n",
       "    <tr>\n",
       "      <td>8</td>\n",
       "      <td>슬픈 아일랜드 2</td>\n",
       "      <td>[철저하게, 문학, 장편소설, 현실, 작가]</td>\n",
       "      <td>철저하게 문학 장편소설 현실 작가</td>\n",
       "    </tr>\n",
       "    <tr>\n",
       "      <td>9</td>\n",
       "      <td>무서운 세계사의 미궁</td>\n",
       "      <td>[새로운, 작가, 역사, 사건, 있다]</td>\n",
       "      <td>새로운 작가 역사 사건 있다</td>\n",
       "    </tr>\n",
       "    <tr>\n",
       "      <td>10</td>\n",
       "      <td>그리스 신화 1</td>\n",
       "      <td>[제우스, 올림포스, 신들, 신화, 그리스]</td>\n",
       "      <td>제우스 올림포스 신들 신화 그리스</td>\n",
       "    </tr>\n",
       "    <tr>\n",
       "      <td>11</td>\n",
       "      <td>곽재구의 포구기행</td>\n",
       "      <td>[여행, 것, 시인, 당신, 포구]</td>\n",
       "      <td>여행 것 시인 당신 포구</td>\n",
       "    </tr>\n",
       "    <tr>\n",
       "      <td>12</td>\n",
       "      <td>곽재구의 포구기행</td>\n",
       "      <td>[여행, 것, 시인, 당신, 포구]</td>\n",
       "      <td>여행 것 시인 당신 포구</td>\n",
       "    </tr>\n",
       "    <tr>\n",
       "      <td>13</td>\n",
       "      <td>외딴 마을의 빈집이 되고 싶다</td>\n",
       "      <td>[있는, 아름답고, 만족스런, 아름다운, 시로]</td>\n",
       "      <td>있는 아름답고 만족스런 아름다운 시로</td>\n",
       "    </tr>\n",
       "    <tr>\n",
       "      <td>14</td>\n",
       "      <td>작은 위로</td>\n",
       "      <td>[모든, 이, 작은, 필요한, 위로]</td>\n",
       "      <td>모든 이 작은 필요한 위로</td>\n",
       "    </tr>\n",
       "    <tr>\n",
       "      <td>15</td>\n",
       "      <td>작은 위로</td>\n",
       "      <td>[모든, 이, 작은, 필요한, 위로]</td>\n",
       "      <td>모든 이 작은 필요한 위로</td>\n",
       "    </tr>\n",
       "    <tr>\n",
       "      <td>16</td>\n",
       "      <td>작은 위로</td>\n",
       "      <td>[모든, 이, 작은, 필요한, 위로]</td>\n",
       "      <td>모든 이 작은 필요한 위로</td>\n",
       "    </tr>\n",
       "    <tr>\n",
       "      <td>17</td>\n",
       "      <td>옛날의 사금파리</td>\n",
       "      <td>[말, 것, 집, 이야기, 서울]</td>\n",
       "      <td>말 것 집 이야기 서울</td>\n",
       "    </tr>\n",
       "    <tr>\n",
       "      <td>18</td>\n",
       "      <td>한 번뿐인 내 인생 10대부터 준비한다</td>\n",
       "      <td>[있도록, 자신, 준비, 직업, 것]</td>\n",
       "      <td>있도록 자신 준비 직업 것</td>\n",
       "    </tr>\n",
       "    <tr>\n",
       "      <td>19</td>\n",
       "      <td>간지럽고 싶다, 한없이</td>\n",
       "      <td>[집, 대한, 예술, 문화, 문학]</td>\n",
       "      <td>집 대한 예술 문화 문학</td>\n",
       "    </tr>\n",
       "  </tbody>\n",
       "</table>\n",
       "</div>"
      ],
      "text/plain": [
       "                     Name                   Key_words           Bag_of_words\n",
       "0            외눈박이 물고기의 사랑      [가볍게, 없는, 깊어진, 시집, 세계]      가볍게 없는 깊어진 시집 세계 \n",
       "1    지금 알고 있는 걸 그때도 알았더라면        [시집, 사람, 새로운, 대한, 삶]        시집 사람 새로운 대한 삶 \n",
       "2                      연인         [풍경, 푸른, 툭눈, 사랑, 삶]         풍경 푸른 툭눈 사랑 삶 \n",
       "3                      연인         [풍경, 푸른, 툭눈, 사랑, 삶]         풍경 푸른 툭눈 사랑 삶 \n",
       "4                섬진강 이야기1        [것, 책아름다운, 있다, 개, 강]        것 책아름다운 있다 개 강 \n",
       "5                  고수의 일침          [있는, 고수, 저자, 말, 책]          있는 고수 저자 말 책 \n",
       "6          꽃보다 먼저 마음을 주었네        [마음, 하나, 서정, 시집, 자연]        마음 하나 서정 시집 자연 \n",
       "7               슬픈 아일랜드 1    [철저하게, 문학, 장편소설, 현실, 작가]    철저하게 문학 장편소설 현실 작가 \n",
       "8               슬픈 아일랜드 2    [철저하게, 문학, 장편소설, 현실, 작가]    철저하게 문학 장편소설 현실 작가 \n",
       "9             무서운 세계사의 미궁       [새로운, 작가, 역사, 사건, 있다]       새로운 작가 역사 사건 있다 \n",
       "10               그리스 신화 1    [제우스, 올림포스, 신들, 신화, 그리스]    제우스 올림포스 신들 신화 그리스 \n",
       "11              곽재구의 포구기행         [여행, 것, 시인, 당신, 포구]         여행 것 시인 당신 포구 \n",
       "12              곽재구의 포구기행         [여행, 것, 시인, 당신, 포구]         여행 것 시인 당신 포구 \n",
       "13       외딴 마을의 빈집이 되고 싶다  [있는, 아름답고, 만족스런, 아름다운, 시로]  있는 아름답고 만족스런 아름다운 시로 \n",
       "14                  작은 위로        [모든, 이, 작은, 필요한, 위로]        모든 이 작은 필요한 위로 \n",
       "15                  작은 위로        [모든, 이, 작은, 필요한, 위로]        모든 이 작은 필요한 위로 \n",
       "16                  작은 위로        [모든, 이, 작은, 필요한, 위로]        모든 이 작은 필요한 위로 \n",
       "17               옛날의 사금파리          [말, 것, 집, 이야기, 서울]          말 것 집 이야기 서울 \n",
       "18  한 번뿐인 내 인생 10대부터 준비한다        [있도록, 자신, 준비, 직업, 것]        있도록 자신 준비 직업 것 \n",
       "19           간지럽고 싶다, 한없이         [집, 대한, 예술, 문화, 문학]         집 대한 예술 문화 문학 "
      ]
     },
     "execution_count": 37,
     "metadata": {},
     "output_type": "execute_result"
    }
   ],
   "source": [
    "token.head(20)"
   ]
  },
  {
   "cell_type": "code",
   "execution_count": 36,
   "metadata": {},
   "outputs": [],
   "source": [
    "token = token[['Name','Key_words','Bag_of_words']]"
   ]
  },
  {
   "cell_type": "markdown",
   "metadata": {},
   "source": [
    "================== 키워드 3개 가져오기 ====================="
   ]
  },
  {
   "cell_type": "markdown",
   "metadata": {},
   "source": [
    "유저가 키워드 3개 선택하면 ( name : user / key_words : 선택1,2,3 / Bag_of_words : 선택1 선택2 선택3 ) 행 추가"
   ]
  },
  {
   "cell_type": "code",
   "execution_count": 39,
   "metadata": {},
   "outputs": [
    {
     "data": {
      "text/html": [
       "<div>\n",
       "<style scoped>\n",
       "    .dataframe tbody tr th:only-of-type {\n",
       "        vertical-align: middle;\n",
       "    }\n",
       "\n",
       "    .dataframe tbody tr th {\n",
       "        vertical-align: top;\n",
       "    }\n",
       "\n",
       "    .dataframe thead th {\n",
       "        text-align: right;\n",
       "    }\n",
       "</style>\n",
       "<table border=\"1\" class=\"dataframe\">\n",
       "  <thead>\n",
       "    <tr style=\"text-align: right;\">\n",
       "      <th></th>\n",
       "      <th>Name</th>\n",
       "      <th>Key_words</th>\n",
       "      <th>Bag_of_words</th>\n",
       "    </tr>\n",
       "  </thead>\n",
       "  <tbody>\n",
       "    <tr>\n",
       "      <td>6996</td>\n",
       "      <td>아름다운 바보</td>\n",
       "      <td>[따뜻한, 생각, 동화, 어린이, 마음]</td>\n",
       "      <td>따뜻한 생각 동화 어린이 마음</td>\n",
       "    </tr>\n",
       "    <tr>\n",
       "      <td>6997</td>\n",
       "      <td>서토를 정복하라! 광개토태왕기</td>\n",
       "      <td>[있도록, 있는, 광개토, 수, 입니다]</td>\n",
       "      <td>있도록 있는 광개토 수 입니다</td>\n",
       "    </tr>\n",
       "    <tr>\n",
       "      <td>6998</td>\n",
       "      <td>세상에서 가장 아름다운 거짓말</td>\n",
       "      <td>[수지, 가장, 아름다운, 세상, 거짓말]</td>\n",
       "      <td>수지 가장 아름다운 세상 거짓말</td>\n",
       "    </tr>\n",
       "    <tr>\n",
       "      <td>6999</td>\n",
       "      <td>세상에서 가장 아름다운 거짓말</td>\n",
       "      <td>[수지, 가장, 아름다운, 세상, 거짓말]</td>\n",
       "      <td>수지 가장 아름다운 세상 거짓말</td>\n",
       "    </tr>\n",
       "    <tr>\n",
       "      <td>6649</td>\n",
       "      <td>user</td>\n",
       "      <td></td>\n",
       "      <td>여행 시인 포구</td>\n",
       "    </tr>\n",
       "  </tbody>\n",
       "</table>\n",
       "</div>"
      ],
      "text/plain": [
       "                  Name                Key_words        Bag_of_words\n",
       "6996           아름다운 바보   [따뜻한, 생각, 동화, 어린이, 마음]   따뜻한 생각 동화 어린이 마음 \n",
       "6997  서토를 정복하라! 광개토태왕기   [있도록, 있는, 광개토, 수, 입니다]   있도록 있는 광개토 수 입니다 \n",
       "6998  세상에서 가장 아름다운 거짓말  [수지, 가장, 아름다운, 세상, 거짓말]  수지 가장 아름다운 세상 거짓말 \n",
       "6999  세상에서 가장 아름다운 거짓말  [수지, 가장, 아름다운, 세상, 거짓말]  수지 가장 아름다운 세상 거짓말 \n",
       "6649              user                                     여행 시인 포구"
      ]
     },
     "execution_count": 39,
     "metadata": {},
     "output_type": "execute_result"
    }
   ],
   "source": [
    "# EX)\n",
    "\n",
    "# 유저가 '곽재구의 포구기행'  입력\n",
    "# [여행, 것, 시인, 당신, 포구] 중 [여행, 시인, 포구] 선택\n",
    "\n",
    "user = pd.DataFrame(data={'Name':['user'], 'Key_words':[' '], 'Bag_of_words':['여행 시인 포구']}, index=[len(token)])\n",
    "\n",
    "token_user = token.append(user)\n",
    "token_user.tail()"
   ]
  },
  {
   "cell_type": "code",
   "execution_count": 40,
   "metadata": {},
   "outputs": [
    {
     "name": "stdout",
     "output_type": "stream",
     "text": [
      "[[1.         0.25672861 0.         ... 0.         0.         0.        ]\n",
      " [0.25672861 1.         0.         ... 0.         0.         0.        ]\n",
      " [0.         0.         1.         ... 0.         0.         0.        ]\n",
      " ...\n",
      " [0.         0.         0.         ... 1.         1.         0.        ]\n",
      " [0.         0.         0.         ... 1.         1.         0.        ]\n",
      " [0.         0.         0.         ... 0.         0.         1.        ]]\n"
     ]
    }
   ],
   "source": [
    "from sklearn.feature_extraction.text import TfidfVectorizer\n",
    "\n",
    "tfidf = TfidfVectorizer()\n",
    "tfidf_matrix = tfidf.fit_transform(token_user['Bag_of_words'])\n",
    "cosine_sim = cosine_similarity(tfidf_matrix, tfidf_matrix)\n",
    "print(cosine_sim)"
   ]
  },
  {
   "cell_type": "code",
   "execution_count": 41,
   "metadata": {},
   "outputs": [],
   "source": [
    "indices = pd.Series(token_user['Name'])"
   ]
  },
  {
   "cell_type": "code",
   "execution_count": 42,
   "metadata": {},
   "outputs": [
    {
     "data": {
      "text/plain": [
       "0               외눈박이 물고기의 사랑\n",
       "1       지금 알고 있는 걸 그때도 알았더라면\n",
       "2                         연인\n",
       "3                         연인\n",
       "4                   섬진강 이야기1\n",
       "                ...         \n",
       "6996                 아름다운 바보\n",
       "6997        서토를 정복하라! 광개토태왕기\n",
       "6998        세상에서 가장 아름다운 거짓말\n",
       "6999        세상에서 가장 아름다운 거짓말\n",
       "6649                    user\n",
       "Name: Name, Length: 6650, dtype: object"
      ]
     },
     "execution_count": 42,
     "metadata": {},
     "output_type": "execute_result"
    }
   ],
   "source": [
    "indices"
   ]
  },
  {
   "cell_type": "code",
   "execution_count": 45,
   "metadata": {},
   "outputs": [],
   "source": [
    "def recommend(title, cosine_sim = cosine_sim):\n",
    "    recommended_books = []\n",
    "    idx = indices[indices == title].index[0]\n",
    "    score_series = pd.Series(cosine_sim[idx]).sort_values(ascending = False)\n",
    "    top_10_indices = list(score_series.iloc[2:12].index)\n",
    "    \n",
    "    for i in top_10_indices:\n",
    "        recommended_books.append(list(token_user['Name'])[i])\n",
    "        \n",
    "    return recommended_books"
   ]
  },
  {
   "cell_type": "code",
   "execution_count": 46,
   "metadata": {},
   "outputs": [
    {
     "data": {
      "text/plain": [
       "['곽재구의 포구기행',\n",
       " '곽재구의 포구기행',\n",
       " '곽재구의 포구기행',\n",
       " '곽재구의 포구기행',\n",
       " '따뜻한 종이컵',\n",
       " '한시의 성좌',\n",
       " '따뜻한 종이컵',\n",
       " '캘리포니아',\n",
       " '벼랑 덩굴손',\n",
       " '달개비꽃']"
      ]
     },
     "execution_count": 46,
     "metadata": {},
     "output_type": "execute_result"
    }
   ],
   "source": [
    "recommend('user')"
   ]
  },
  {
   "cell_type": "code",
   "execution_count": null,
   "metadata": {},
   "outputs": [],
   "source": []
  }
 ],
 "metadata": {
  "kernelspec": {
   "display_name": "Python 3",
   "language": "python",
   "name": "python3"
  },
  "language_info": {
   "codemirror_mode": {
    "name": "ipython",
    "version": 3
   },
   "file_extension": ".py",
   "mimetype": "text/x-python",
   "name": "python",
   "nbconvert_exporter": "python",
   "pygments_lexer": "ipython3",
   "version": "3.7.6"
  }
 },
 "nbformat": 4,
 "nbformat_minor": 2
}
